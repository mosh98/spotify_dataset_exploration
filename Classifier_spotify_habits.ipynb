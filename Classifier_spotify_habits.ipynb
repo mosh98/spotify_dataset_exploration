{
  "nbformat": 4,
  "nbformat_minor": 0,
  "metadata": {
    "colab": {
      "name": "Classifier_spotify_habits.ipynb",
      "provenance": [],
      "collapsed_sections": [],
      "authorship_tag": "ABX9TyOHbBQwm6lIM7ujb2f85ZUU",
      "include_colab_link": true
    },
    "kernelspec": {
      "name": "python3",
      "display_name": "Python 3"
    }
  },
  "cells": [
    {
      "cell_type": "markdown",
      "metadata": {
        "id": "view-in-github",
        "colab_type": "text"
      },
      "source": [
        "<a href=\"https://colab.research.google.com/github/mosh98/spotify_dataset_exploration/blob/master/Classifier_spotify_habits.ipynb\" target=\"_parent\"><img src=\"https://colab.research.google.com/assets/colab-badge.svg\" alt=\"Open In Colab\"/></a>"
      ]
    },
    {
      "cell_type": "markdown",
      "metadata": {
        "id": "XRAaswwralan"
      },
      "source": [
        "\n",
        "\n",
        "\n",
        "The following dataset is a collection of my own personal favourite songs that i listen to repeatedly\n",
        "\n",
        "Goal of this exploration is to create a classifier and also to check out some interesting patterns using the given dataset."
      ]
    },
    {
      "cell_type": "markdown",
      "metadata": {
        "id": "C_zIRplUYrws"
      },
      "source": [
        "**Downloading dataset and relevant Libraries**"
      ]
    },
    {
      "cell_type": "code",
      "metadata": {
        "id": "87Iw0MF_Zf5-",
        "outputId": "717c7f83-de05-43d8-8aea-b08ce923d5e9",
        "colab": {
          "base_uri": "https://localhost:8080/",
          "height": 156
        }
      },
      "source": [
        "!pip install spotipy"
      ],
      "execution_count": 3,
      "outputs": [
        {
          "output_type": "stream",
          "text": [
            "Requirement already satisfied: spotipy in /usr/local/lib/python3.6/dist-packages (2.16.0)\n",
            "Requirement already satisfied: requests>=2.20.0 in /usr/local/lib/python3.6/dist-packages (from spotipy) (2.23.0)\n",
            "Requirement already satisfied: six>=1.10.0 in /usr/local/lib/python3.6/dist-packages (from spotipy) (1.15.0)\n",
            "Requirement already satisfied: urllib3!=1.25.0,!=1.25.1,<1.26,>=1.21.1 in /usr/local/lib/python3.6/dist-packages (from requests>=2.20.0->spotipy) (1.24.3)\n",
            "Requirement already satisfied: chardet<4,>=3.0.2 in /usr/local/lib/python3.6/dist-packages (from requests>=2.20.0->spotipy) (3.0.4)\n",
            "Requirement already satisfied: idna<3,>=2.5 in /usr/local/lib/python3.6/dist-packages (from requests>=2.20.0->spotipy) (2.10)\n",
            "Requirement already satisfied: certifi>=2017.4.17 in /usr/local/lib/python3.6/dist-packages (from requests>=2.20.0->spotipy) (2020.6.20)\n"
          ],
          "name": "stdout"
        }
      ]
    },
    {
      "cell_type": "code",
      "metadata": {
        "id": "uFDpAXmrYeOz"
      },
      "source": [
        "import pandas as pd \n",
        "import numpy as np\n",
        "import spotipy\n",
        "import seaborn as sns\n",
        "import matplotlib.pyplot as plt\n",
        "from sklearn.model_selection import train_test_split\n",
        "from sklearn.preprocessing import StandardScaler\n",
        "from sklearn.ensemble import RandomForestClassifier"
      ],
      "execution_count": 45,
      "outputs": []
    },
    {
      "cell_type": "markdown",
      "metadata": {
        "id": "kmjRiEKURgph"
      },
      "source": [
        "#Return Dataframe \n",
        "of songs"
      ]
    },
    {
      "cell_type": "code",
      "metadata": {
        "id": "XK_ChL-lQ-eT"
      },
      "source": [
        "sp = spotipy.Spotify() \n",
        "\n",
        "def return_song_df(song):\n",
        "  ids = [] \n",
        "  \n",
        "  for i in range(len(songs)): \n",
        "    ids.append(songs[i][\"track\"][\"id\"]) \n",
        "  \n",
        "  features = sp.audio_features(ids) \n",
        "  df = pd.DataFrame(features)\n",
        "\n",
        "  return df"
      ],
      "execution_count": 8,
      "outputs": []
    },
    {
      "cell_type": "code",
      "metadata": {
        "id": "zy04zf0Abrve"
      },
      "source": [
        "\n",
        "from spotipy.oauth2 import SpotifyClientCredentials \n",
        "cid =\"9b7b6880f95d47b2ba93f06224a89eda\" \n",
        "secret = \"f0c048093ab84d8d92d0deae19203a70\" \n",
        "client_credentials_manager = SpotifyClientCredentials(client_id=cid, client_secret=secret) \n",
        "sp = spotipy.Spotify(client_credentials_manager=client_credentials_manager) \n",
        "sp.trace=False \n",
        "playlist = sp.user_playlist(\"Madafukin hype\", \"2g8hYJsoq6Px5CgI2AsVZQ?si=xs2njsOkTFqPJysUarlmWA\") \n",
        "songs = playlist[\"tracks\"][\"items\"] \n",
        "\n",
        "df = return_song_df(songs)"
      ],
      "execution_count": 9,
      "outputs": []
    },
    {
      "cell_type": "markdown",
      "metadata": {
        "id": "jJNlfKsTX56l"
      },
      "source": [
        "#Playlist of songs that i don't like\n",
        "Persoanlly not a huge fan of rock music so yeah"
      ]
    },
    {
      "cell_type": "code",
      "metadata": {
        "id": "yJims77QX5ka"
      },
      "source": [
        "playlist = sp.user_playlist(\"Rock 2020 - Best ROCK Songs Playlist (Rock Music 2020)\", \"1UyrGwXUiAZilemyfqA3vj?si=ScA1rbohS2qh2JOCsf-KzQ\") \n",
        "songs = playlist[\"tracks\"][\"items\"] \n",
        "df_song_i_dont_like = return_song_df(songs)"
      ],
      "execution_count": 10,
      "outputs": []
    },
    {
      "cell_type": "markdown",
      "metadata": {
        "id": "5dqO8pKGfshl"
      },
      "source": [
        "**Infomation about columns**\n",
        "Audio features found from here: https://developer.spotify.com/documentation/web-api/reference/tracks/get-audio-features/\n",
        "\n",
        "**dancebility -**\n",
        "\n",
        "**key -** \n",
        "The estimated overall key of the track. Integers map to pitches using standard \n",
        "\n",
        "**mode **\n",
        " indicates the modality (major or minor) of a track [goes from 0-1]\n",
        "\n",
        "**time_signature**\n",
        "An estimated overall time signature of a track. The time signature (meter) is a notational convention to specify how many beats are in each bar (or measure)\n",
        "\n",
        "**acousticness**\n",
        "ranges form 0.0 to 1.0. a confidence measure, the higher the more acountic it is.\n",
        "\n",
        "**energy** \n",
        "Energy is a measure from 0.0 to 1.0 and represents a perceptual measure of intensity and activity. Typically, energetic tracks feel fast, loud, and noisy. For example, death metal has high energy, while a Bach prelude scores low on the scale. Perceptual features contributing to this attribute include dynamic range, perceived loudness, timbre, onset rate, and general entropy.\n",
        "\n",
        "**instrumentalness**\n",
        "Predicts whether a track contains no vocals. “Ooh” and “aah” sounds are treated as instrumental in this context. Rap or spoken word tracks are clearly “vocal”. The closer the instrumentalness value is to 1.0, the greater likelihood the track contains no vocal content. Values above 0.5 are intended to represent instrumental tracks, but confidence is higher as the value approaches 1.0.\n",
        "\n",
        "\n",
        "**liveness**\n",
        "Detects the presence of an audience in the recording. Higher liveness values represent an increased probability that the track was performed live. A value above 0.8 provides strong likelihood that the track is live\n",
        "\n",
        "**loudness**\n",
        "The overall loudness of a track in decibels (dB). Loudness values are averaged across the entire track and are useful for comparing relative loudness of tracks. Loudness is the quality of a sound that is the primary psychological correlate of physical strength (amplitude). Values typical range between -60 and 0 db.\n",
        "\n",
        "**valence**\n",
        "A measure from 0.0 to 1.0 describing the musical positiveness conveyed by a track. Tracks with high valence sound more positive (e.g. happy, cheerful, euphoric), while tracks with low valence sound more negative (e.g. sad, depressed, angry).\n",
        "\n",
        "**tempo**\n",
        "The overall estimated tempo of a track in beats per minute (BPM). In musical terminology, tempo is the speed or pace of a given piece and derives directly from the average beat duration.\n",
        "\n",
        "**time_signature**\n",
        "An estimated overall time signature of a track. The time signature (meter) is a notational convention to specify how many beats are in each bar (or measure).\n",
        "\n",
        "##Time signature is now converted to class label\n",
        "\n",
        "\n",
        "\n",
        "\n",
        "\n"
      ]
    },
    {
      "cell_type": "code",
      "metadata": {
        "id": "lc2k3H6xa2_t"
      },
      "source": [
        "liked_columns = pd.DataFrame(np.ones( (df.shape[0],1) ) )\n",
        "liked_columns"
      ],
      "execution_count": null,
      "outputs": []
    },
    {
      "cell_type": "code",
      "metadata": {
        "id": "QIUeM7dve-Pm"
      },
      "source": [
        "df['time_signature'] = pd.DataFrame(np.ones( (df.shape[0],1) ), index = df.index )\n",
        "df"
      ],
      "execution_count": null,
      "outputs": []
    },
    {
      "cell_type": "code",
      "metadata": {
        "id": "1cXh7Hr1Z_MT"
      },
      "source": [
        "df_song_i_dont_like['time_signature'] = pd.DataFrame(np.zeros( (df_song_i_dont_like.shape[0],1) ), index = df_song_i_dont_like.index )"
      ],
      "execution_count": 30,
      "outputs": []
    },
    {
      "cell_type": "code",
      "metadata": {
        "id": "3nV1MpbyeDFw"
      },
      "source": [
        ""
      ],
      "execution_count": null,
      "outputs": []
    },
    {
      "cell_type": "markdown",
      "metadata": {
        "id": "nAx3BDQ6aNkP"
      },
      "source": [
        "#Concat the the two dataframe with shuffle"
      ]
    },
    {
      "cell_type": "code",
      "metadata": {
        "id": "5PmDlVrkaSUI",
        "outputId": "5be15772-4bc3-4c48-b502-b8deba0c15ab",
        "colab": {
          "base_uri": "https://localhost:8080/",
          "height": 609
        }
      },
      "source": [
        "#Big data ;)\n",
        "bigdata = df.append(df_song_i_dont_like, ignore_index=True)\n",
        "bigdata= bigdata.sample(frac=1).reset_index(drop=True)\n",
        "bigdata"
      ],
      "execution_count": 32,
      "outputs": [
        {
          "output_type": "execute_result",
          "data": {
            "text/html": [
              "<div>\n",
              "<style scoped>\n",
              "    .dataframe tbody tr th:only-of-type {\n",
              "        vertical-align: middle;\n",
              "    }\n",
              "\n",
              "    .dataframe tbody tr th {\n",
              "        vertical-align: top;\n",
              "    }\n",
              "\n",
              "    .dataframe thead th {\n",
              "        text-align: right;\n",
              "    }\n",
              "</style>\n",
              "<table border=\"1\" class=\"dataframe\">\n",
              "  <thead>\n",
              "    <tr style=\"text-align: right;\">\n",
              "      <th></th>\n",
              "      <th>danceability</th>\n",
              "      <th>energy</th>\n",
              "      <th>key</th>\n",
              "      <th>loudness</th>\n",
              "      <th>mode</th>\n",
              "      <th>speechiness</th>\n",
              "      <th>acousticness</th>\n",
              "      <th>instrumentalness</th>\n",
              "      <th>liveness</th>\n",
              "      <th>valence</th>\n",
              "      <th>tempo</th>\n",
              "      <th>type</th>\n",
              "      <th>id</th>\n",
              "      <th>uri</th>\n",
              "      <th>track_href</th>\n",
              "      <th>analysis_url</th>\n",
              "      <th>duration_ms</th>\n",
              "      <th>time_signature</th>\n",
              "    </tr>\n",
              "  </thead>\n",
              "  <tbody>\n",
              "    <tr>\n",
              "      <th>0</th>\n",
              "      <td>0.438</td>\n",
              "      <td>0.826</td>\n",
              "      <td>10</td>\n",
              "      <td>-5.454</td>\n",
              "      <td>1</td>\n",
              "      <td>0.0750</td>\n",
              "      <td>0.005860</td>\n",
              "      <td>0.000009</td>\n",
              "      <td>0.3620</td>\n",
              "      <td>0.3780</td>\n",
              "      <td>144.149</td>\n",
              "      <td>audio_features</td>\n",
              "      <td>71JuDGXgyY7MbmXtldZ4C3</td>\n",
              "      <td>spotify:track:71JuDGXgyY7MbmXtldZ4C3</td>\n",
              "      <td>https://api.spotify.com/v1/tracks/71JuDGXgyY7M...</td>\n",
              "      <td>https://api.spotify.com/v1/audio-analysis/71Ju...</td>\n",
              "      <td>221947</td>\n",
              "      <td>0.0</td>\n",
              "    </tr>\n",
              "    <tr>\n",
              "      <th>1</th>\n",
              "      <td>0.736</td>\n",
              "      <td>0.721</td>\n",
              "      <td>0</td>\n",
              "      <td>-4.778</td>\n",
              "      <td>1</td>\n",
              "      <td>0.0645</td>\n",
              "      <td>0.009770</td>\n",
              "      <td>0.000185</td>\n",
              "      <td>0.1490</td>\n",
              "      <td>0.2360</td>\n",
              "      <td>129.892</td>\n",
              "      <td>audio_features</td>\n",
              "      <td>5vXTilhr7U7Cv9KJ8peBGb</td>\n",
              "      <td>spotify:track:5vXTilhr7U7Cv9KJ8peBGb</td>\n",
              "      <td>https://api.spotify.com/v1/tracks/5vXTilhr7U7C...</td>\n",
              "      <td>https://api.spotify.com/v1/audio-analysis/5vXT...</td>\n",
              "      <td>154456</td>\n",
              "      <td>1.0</td>\n",
              "    </tr>\n",
              "    <tr>\n",
              "      <th>2</th>\n",
              "      <td>0.716</td>\n",
              "      <td>0.680</td>\n",
              "      <td>5</td>\n",
              "      <td>-4.721</td>\n",
              "      <td>0</td>\n",
              "      <td>0.3090</td>\n",
              "      <td>0.241000</td>\n",
              "      <td>0.000000</td>\n",
              "      <td>0.2020</td>\n",
              "      <td>0.4750</td>\n",
              "      <td>140.417</td>\n",
              "      <td>audio_features</td>\n",
              "      <td>1Iv4wC88uxeAF7SmQQGx3X</td>\n",
              "      <td>spotify:track:1Iv4wC88uxeAF7SmQQGx3X</td>\n",
              "      <td>https://api.spotify.com/v1/tracks/1Iv4wC88uxeA...</td>\n",
              "      <td>https://api.spotify.com/v1/audio-analysis/1Iv4...</td>\n",
              "      <td>207366</td>\n",
              "      <td>1.0</td>\n",
              "    </tr>\n",
              "    <tr>\n",
              "      <th>3</th>\n",
              "      <td>0.838</td>\n",
              "      <td>0.771</td>\n",
              "      <td>1</td>\n",
              "      <td>-3.791</td>\n",
              "      <td>1</td>\n",
              "      <td>0.2440</td>\n",
              "      <td>0.011700</td>\n",
              "      <td>0.000000</td>\n",
              "      <td>0.0853</td>\n",
              "      <td>0.4050</td>\n",
              "      <td>175.957</td>\n",
              "      <td>audio_features</td>\n",
              "      <td>2DQ1ITjI0YoLFzuADN1ZBW</td>\n",
              "      <td>spotify:track:2DQ1ITjI0YoLFzuADN1ZBW</td>\n",
              "      <td>https://api.spotify.com/v1/tracks/2DQ1ITjI0YoL...</td>\n",
              "      <td>https://api.spotify.com/v1/audio-analysis/2DQ1...</td>\n",
              "      <td>245387</td>\n",
              "      <td>1.0</td>\n",
              "    </tr>\n",
              "    <tr>\n",
              "      <th>4</th>\n",
              "      <td>0.496</td>\n",
              "      <td>0.870</td>\n",
              "      <td>10</td>\n",
              "      <td>-6.305</td>\n",
              "      <td>1</td>\n",
              "      <td>0.1130</td>\n",
              "      <td>0.041500</td>\n",
              "      <td>0.000000</td>\n",
              "      <td>0.2140</td>\n",
              "      <td>0.8610</td>\n",
              "      <td>83.275</td>\n",
              "      <td>audio_features</td>\n",
              "      <td>25funj7pcpBVKj494fKHl8</td>\n",
              "      <td>spotify:track:25funj7pcpBVKj494fKHl8</td>\n",
              "      <td>https://api.spotify.com/v1/tracks/25funj7pcpBV...</td>\n",
              "      <td>https://api.spotify.com/v1/audio-analysis/25fu...</td>\n",
              "      <td>138353</td>\n",
              "      <td>0.0</td>\n",
              "    </tr>\n",
              "    <tr>\n",
              "      <th>...</th>\n",
              "      <td>...</td>\n",
              "      <td>...</td>\n",
              "      <td>...</td>\n",
              "      <td>...</td>\n",
              "      <td>...</td>\n",
              "      <td>...</td>\n",
              "      <td>...</td>\n",
              "      <td>...</td>\n",
              "      <td>...</td>\n",
              "      <td>...</td>\n",
              "      <td>...</td>\n",
              "      <td>...</td>\n",
              "      <td>...</td>\n",
              "      <td>...</td>\n",
              "      <td>...</td>\n",
              "      <td>...</td>\n",
              "      <td>...</td>\n",
              "      <td>...</td>\n",
              "    </tr>\n",
              "    <tr>\n",
              "      <th>84</th>\n",
              "      <td>0.664</td>\n",
              "      <td>0.828</td>\n",
              "      <td>0</td>\n",
              "      <td>-6.053</td>\n",
              "      <td>1</td>\n",
              "      <td>0.0404</td>\n",
              "      <td>0.008390</td>\n",
              "      <td>0.000000</td>\n",
              "      <td>0.2940</td>\n",
              "      <td>0.8200</td>\n",
              "      <td>103.985</td>\n",
              "      <td>audio_features</td>\n",
              "      <td>6GqqGv8frU7kqzXkm2rewI</td>\n",
              "      <td>spotify:track:6GqqGv8frU7kqzXkm2rewI</td>\n",
              "      <td>https://api.spotify.com/v1/tracks/6GqqGv8frU7k...</td>\n",
              "      <td>https://api.spotify.com/v1/audio-analysis/6Gqq...</td>\n",
              "      <td>190718</td>\n",
              "      <td>0.0</td>\n",
              "    </tr>\n",
              "    <tr>\n",
              "      <th>85</th>\n",
              "      <td>0.378</td>\n",
              "      <td>0.875</td>\n",
              "      <td>0</td>\n",
              "      <td>-5.403</td>\n",
              "      <td>0</td>\n",
              "      <td>0.0694</td>\n",
              "      <td>0.000037</td>\n",
              "      <td>0.026100</td>\n",
              "      <td>0.1170</td>\n",
              "      <td>0.3060</td>\n",
              "      <td>192.955</td>\n",
              "      <td>audio_features</td>\n",
              "      <td>3mACHKoDo7dA8DChTRnp4p</td>\n",
              "      <td>spotify:track:3mACHKoDo7dA8DChTRnp4p</td>\n",
              "      <td>https://api.spotify.com/v1/tracks/3mACHKoDo7dA...</td>\n",
              "      <td>https://api.spotify.com/v1/audio-analysis/3mAC...</td>\n",
              "      <td>261529</td>\n",
              "      <td>0.0</td>\n",
              "    </tr>\n",
              "    <tr>\n",
              "      <th>86</th>\n",
              "      <td>0.736</td>\n",
              "      <td>0.891</td>\n",
              "      <td>0</td>\n",
              "      <td>-4.342</td>\n",
              "      <td>1</td>\n",
              "      <td>0.0586</td>\n",
              "      <td>0.037400</td>\n",
              "      <td>0.000004</td>\n",
              "      <td>0.3470</td>\n",
              "      <td>0.0726</td>\n",
              "      <td>130.055</td>\n",
              "      <td>audio_features</td>\n",
              "      <td>3Z3ANEnfT5iSJrNFJFHLQO</td>\n",
              "      <td>spotify:track:3Z3ANEnfT5iSJrNFJFHLQO</td>\n",
              "      <td>https://api.spotify.com/v1/tracks/3Z3ANEnfT5iS...</td>\n",
              "      <td>https://api.spotify.com/v1/audio-analysis/3Z3A...</td>\n",
              "      <td>209539</td>\n",
              "      <td>1.0</td>\n",
              "    </tr>\n",
              "    <tr>\n",
              "      <th>87</th>\n",
              "      <td>0.473</td>\n",
              "      <td>0.749</td>\n",
              "      <td>1</td>\n",
              "      <td>-5.047</td>\n",
              "      <td>0</td>\n",
              "      <td>0.0287</td>\n",
              "      <td>0.000466</td>\n",
              "      <td>0.000005</td>\n",
              "      <td>0.0883</td>\n",
              "      <td>0.1670</td>\n",
              "      <td>150.022</td>\n",
              "      <td>audio_features</td>\n",
              "      <td>5icbZiF6lcuEORG0UzMsS2</td>\n",
              "      <td>spotify:track:5icbZiF6lcuEORG0UzMsS2</td>\n",
              "      <td>https://api.spotify.com/v1/tracks/5icbZiF6lcuE...</td>\n",
              "      <td>https://api.spotify.com/v1/audio-analysis/5icb...</td>\n",
              "      <td>216627</td>\n",
              "      <td>0.0</td>\n",
              "    </tr>\n",
              "    <tr>\n",
              "      <th>88</th>\n",
              "      <td>0.556</td>\n",
              "      <td>0.930</td>\n",
              "      <td>9</td>\n",
              "      <td>-3.392</td>\n",
              "      <td>1</td>\n",
              "      <td>0.3320</td>\n",
              "      <td>0.159000</td>\n",
              "      <td>0.000000</td>\n",
              "      <td>0.0819</td>\n",
              "      <td>0.2250</td>\n",
              "      <td>86.907</td>\n",
              "      <td>audio_features</td>\n",
              "      <td>22p0CWHGuImoER7NGpzool</td>\n",
              "      <td>spotify:track:22p0CWHGuImoER7NGpzool</td>\n",
              "      <td>https://api.spotify.com/v1/tracks/22p0CWHGuImo...</td>\n",
              "      <td>https://api.spotify.com/v1/audio-analysis/22p0...</td>\n",
              "      <td>156417</td>\n",
              "      <td>1.0</td>\n",
              "    </tr>\n",
              "  </tbody>\n",
              "</table>\n",
              "<p>89 rows × 18 columns</p>\n",
              "</div>"
            ],
            "text/plain": [
              "    danceability  energy  ...  duration_ms  time_signature\n",
              "0          0.438   0.826  ...       221947             0.0\n",
              "1          0.736   0.721  ...       154456             1.0\n",
              "2          0.716   0.680  ...       207366             1.0\n",
              "3          0.838   0.771  ...       245387             1.0\n",
              "4          0.496   0.870  ...       138353             0.0\n",
              "..           ...     ...  ...          ...             ...\n",
              "84         0.664   0.828  ...       190718             0.0\n",
              "85         0.378   0.875  ...       261529             0.0\n",
              "86         0.736   0.891  ...       209539             1.0\n",
              "87         0.473   0.749  ...       216627             0.0\n",
              "88         0.556   0.930  ...       156417             1.0\n",
              "\n",
              "[89 rows x 18 columns]"
            ]
          },
          "metadata": {
            "tags": []
          },
          "execution_count": 32
        }
      ]
    },
    {
      "cell_type": "markdown",
      "metadata": {
        "id": "6I16ONh8jQDk"
      },
      "source": [
        "Drop a few attributes\n",
        "\n",
        "namely: uri,track_href,analysis_url.id,type, liveness"
      ]
    },
    {
      "cell_type": "code",
      "metadata": {
        "id": "LZzWl9uwjRLm"
      },
      "source": [
        "def drop_unnecerray_attributes(data):\n",
        "\n",
        "  polished_data = data.drop(['type','id','track_href','analysis_url','duration_ms','liveness','uri','mode'],axis=1)\n",
        "\n",
        "  return polished_data"
      ],
      "execution_count": 34,
      "outputs": []
    },
    {
      "cell_type": "code",
      "metadata": {
        "id": "OywpaIM6lfL4",
        "outputId": "fda2985a-105e-42d9-f3ed-3a5d5c07546c",
        "colab": {
          "base_uri": "https://localhost:8080/",
          "height": 439
        }
      },
      "source": [
        "new_data = drop_unnecerray_attributes(bigdata)\n",
        "#new_data.describe()\n",
        "new_data"
      ],
      "execution_count": 35,
      "outputs": [
        {
          "output_type": "execute_result",
          "data": {
            "text/html": [
              "<div>\n",
              "<style scoped>\n",
              "    .dataframe tbody tr th:only-of-type {\n",
              "        vertical-align: middle;\n",
              "    }\n",
              "\n",
              "    .dataframe tbody tr th {\n",
              "        vertical-align: top;\n",
              "    }\n",
              "\n",
              "    .dataframe thead th {\n",
              "        text-align: right;\n",
              "    }\n",
              "</style>\n",
              "<table border=\"1\" class=\"dataframe\">\n",
              "  <thead>\n",
              "    <tr style=\"text-align: right;\">\n",
              "      <th></th>\n",
              "      <th>danceability</th>\n",
              "      <th>energy</th>\n",
              "      <th>key</th>\n",
              "      <th>loudness</th>\n",
              "      <th>speechiness</th>\n",
              "      <th>acousticness</th>\n",
              "      <th>instrumentalness</th>\n",
              "      <th>valence</th>\n",
              "      <th>tempo</th>\n",
              "      <th>time_signature</th>\n",
              "    </tr>\n",
              "  </thead>\n",
              "  <tbody>\n",
              "    <tr>\n",
              "      <th>0</th>\n",
              "      <td>0.438</td>\n",
              "      <td>0.826</td>\n",
              "      <td>10</td>\n",
              "      <td>-5.454</td>\n",
              "      <td>0.0750</td>\n",
              "      <td>0.005860</td>\n",
              "      <td>0.000009</td>\n",
              "      <td>0.3780</td>\n",
              "      <td>144.149</td>\n",
              "      <td>0.0</td>\n",
              "    </tr>\n",
              "    <tr>\n",
              "      <th>1</th>\n",
              "      <td>0.736</td>\n",
              "      <td>0.721</td>\n",
              "      <td>0</td>\n",
              "      <td>-4.778</td>\n",
              "      <td>0.0645</td>\n",
              "      <td>0.009770</td>\n",
              "      <td>0.000185</td>\n",
              "      <td>0.2360</td>\n",
              "      <td>129.892</td>\n",
              "      <td>1.0</td>\n",
              "    </tr>\n",
              "    <tr>\n",
              "      <th>2</th>\n",
              "      <td>0.716</td>\n",
              "      <td>0.680</td>\n",
              "      <td>5</td>\n",
              "      <td>-4.721</td>\n",
              "      <td>0.3090</td>\n",
              "      <td>0.241000</td>\n",
              "      <td>0.000000</td>\n",
              "      <td>0.4750</td>\n",
              "      <td>140.417</td>\n",
              "      <td>1.0</td>\n",
              "    </tr>\n",
              "    <tr>\n",
              "      <th>3</th>\n",
              "      <td>0.838</td>\n",
              "      <td>0.771</td>\n",
              "      <td>1</td>\n",
              "      <td>-3.791</td>\n",
              "      <td>0.2440</td>\n",
              "      <td>0.011700</td>\n",
              "      <td>0.000000</td>\n",
              "      <td>0.4050</td>\n",
              "      <td>175.957</td>\n",
              "      <td>1.0</td>\n",
              "    </tr>\n",
              "    <tr>\n",
              "      <th>4</th>\n",
              "      <td>0.496</td>\n",
              "      <td>0.870</td>\n",
              "      <td>10</td>\n",
              "      <td>-6.305</td>\n",
              "      <td>0.1130</td>\n",
              "      <td>0.041500</td>\n",
              "      <td>0.000000</td>\n",
              "      <td>0.8610</td>\n",
              "      <td>83.275</td>\n",
              "      <td>0.0</td>\n",
              "    </tr>\n",
              "    <tr>\n",
              "      <th>...</th>\n",
              "      <td>...</td>\n",
              "      <td>...</td>\n",
              "      <td>...</td>\n",
              "      <td>...</td>\n",
              "      <td>...</td>\n",
              "      <td>...</td>\n",
              "      <td>...</td>\n",
              "      <td>...</td>\n",
              "      <td>...</td>\n",
              "      <td>...</td>\n",
              "    </tr>\n",
              "    <tr>\n",
              "      <th>84</th>\n",
              "      <td>0.664</td>\n",
              "      <td>0.828</td>\n",
              "      <td>0</td>\n",
              "      <td>-6.053</td>\n",
              "      <td>0.0404</td>\n",
              "      <td>0.008390</td>\n",
              "      <td>0.000000</td>\n",
              "      <td>0.8200</td>\n",
              "      <td>103.985</td>\n",
              "      <td>0.0</td>\n",
              "    </tr>\n",
              "    <tr>\n",
              "      <th>85</th>\n",
              "      <td>0.378</td>\n",
              "      <td>0.875</td>\n",
              "      <td>0</td>\n",
              "      <td>-5.403</td>\n",
              "      <td>0.0694</td>\n",
              "      <td>0.000037</td>\n",
              "      <td>0.026100</td>\n",
              "      <td>0.3060</td>\n",
              "      <td>192.955</td>\n",
              "      <td>0.0</td>\n",
              "    </tr>\n",
              "    <tr>\n",
              "      <th>86</th>\n",
              "      <td>0.736</td>\n",
              "      <td>0.891</td>\n",
              "      <td>0</td>\n",
              "      <td>-4.342</td>\n",
              "      <td>0.0586</td>\n",
              "      <td>0.037400</td>\n",
              "      <td>0.000004</td>\n",
              "      <td>0.0726</td>\n",
              "      <td>130.055</td>\n",
              "      <td>1.0</td>\n",
              "    </tr>\n",
              "    <tr>\n",
              "      <th>87</th>\n",
              "      <td>0.473</td>\n",
              "      <td>0.749</td>\n",
              "      <td>1</td>\n",
              "      <td>-5.047</td>\n",
              "      <td>0.0287</td>\n",
              "      <td>0.000466</td>\n",
              "      <td>0.000005</td>\n",
              "      <td>0.1670</td>\n",
              "      <td>150.022</td>\n",
              "      <td>0.0</td>\n",
              "    </tr>\n",
              "    <tr>\n",
              "      <th>88</th>\n",
              "      <td>0.556</td>\n",
              "      <td>0.930</td>\n",
              "      <td>9</td>\n",
              "      <td>-3.392</td>\n",
              "      <td>0.3320</td>\n",
              "      <td>0.159000</td>\n",
              "      <td>0.000000</td>\n",
              "      <td>0.2250</td>\n",
              "      <td>86.907</td>\n",
              "      <td>1.0</td>\n",
              "    </tr>\n",
              "  </tbody>\n",
              "</table>\n",
              "<p>89 rows × 10 columns</p>\n",
              "</div>"
            ],
            "text/plain": [
              "    danceability  energy  key  ...  valence    tempo  time_signature\n",
              "0          0.438   0.826   10  ...   0.3780  144.149             0.0\n",
              "1          0.736   0.721    0  ...   0.2360  129.892             1.0\n",
              "2          0.716   0.680    5  ...   0.4750  140.417             1.0\n",
              "3          0.838   0.771    1  ...   0.4050  175.957             1.0\n",
              "4          0.496   0.870   10  ...   0.8610   83.275             0.0\n",
              "..           ...     ...  ...  ...      ...      ...             ...\n",
              "84         0.664   0.828    0  ...   0.8200  103.985             0.0\n",
              "85         0.378   0.875    0  ...   0.3060  192.955             0.0\n",
              "86         0.736   0.891    0  ...   0.0726  130.055             1.0\n",
              "87         0.473   0.749    1  ...   0.1670  150.022             0.0\n",
              "88         0.556   0.930    9  ...   0.2250   86.907             1.0\n",
              "\n",
              "[89 rows x 10 columns]"
            ]
          },
          "metadata": {
            "tags": []
          },
          "execution_count": 35
        }
      ]
    },
    {
      "cell_type": "markdown",
      "metadata": {
        "id": "nRsURpmyZlSu"
      },
      "source": [
        "#Valence and Acousticness\n",
        "Trying to find out potential relationship between songs with valence and acousticness\n",
        "\n",
        "**Results**: The data shows the lower the acousticness is the lower the valence levels are, and hence ther person who lsitens to this plalist happens to like a little happier songs.\n"
      ]
    },
    {
      "cell_type": "code",
      "metadata": {
        "id": "GMje-nsSZUIu",
        "outputId": "5a809a54-cc78-4085-8d0c-1affe1c495a1",
        "colab": {
          "base_uri": "https://localhost:8080/",
          "height": 296
        }
      },
      "source": [
        " valence_acousticness = new_data[ ['valence','acousticness'] ]\n",
        " valence_acousticness.plot.scatter(x = 'acousticness',y ='valence',c=bigdata['time_signature'])\n",
        " "
      ],
      "execution_count": 38,
      "outputs": [
        {
          "output_type": "execute_result",
          "data": {
            "text/plain": [
              "<matplotlib.axes._subplots.AxesSubplot at 0x7f0ebb0c2f28>"
            ]
          },
          "metadata": {
            "tags": []
          },
          "execution_count": 38
        },
        {
          "output_type": "display_data",
          "data": {
            "image/png": "[encoded data removed]",
            "text/plain": [
              "<Figure size 432x288 with 1 Axes>"
            ]
          },
          "metadata": {
            "tags": [],
            "needs_background": "light"
          }
        }
      ]
    },
    {
      "cell_type": "code",
      "metadata": {
        "id": "aQaB1vYkUIp-"
      },
      "source": [
        "\n",
        "#didn't need to take a small sample of data as the data consists of 29 rows anyways.\n",
        "#Quick PairPlot cuz why not kid\n",
        "sns.pairplot( new_data  )"
      ],
      "execution_count": null,
      "outputs": []
    },
    {
      "cell_type": "markdown",
      "metadata": {
        "id": "wKLCHcDZk8Xg"
      },
      "source": [
        "#HeatMap"
      ]
    },
    {
      "cell_type": "markdown",
      "metadata": {
        "id": "ubgk4DLYmai2"
      },
      "source": [
        "#Splitting the Data"
      ]
    },
    {
      "cell_type": "code",
      "metadata": {
        "id": "_XDHRAvGe1TD"
      },
      "source": [
        "X = new_data.drop( 'time_signature',axis = 1)\n",
        "y= new_data['time_signature'] #class label"
      ],
      "execution_count": 42,
      "outputs": []
    },
    {
      "cell_type": "code",
      "metadata": {
        "id": "VZOl3yRhmdJm"
      },
      "source": [
        "#X_train, X_test, y_train, y_test = train_test_split(X, y, test_size = 0.25, random_state = 0)\n",
        "#print( \"Training size:\", len(train), \"Test Size:\", len(test) )\n",
        "X_train,X_test,y_train,y_test, = train_test_split(X,y, test_size=0.3,stratify=y)\n"
      ],
      "execution_count": 46,
      "outputs": []
    },
    {
      "cell_type": "markdown",
      "metadata": {
        "id": "lAEuCCsDiFVy"
      },
      "source": [
        "#Feature Scaling For Classification"
      ]
    },
    {
      "cell_type": "code",
      "metadata": {
        "id": "xR3-8kdViJXM",
        "outputId": "1b1aa027-669c-4b60-dcdf-2b814954b7ae",
        "colab": {
          "base_uri": "https://localhost:8080/",
          "height": 1000
        }
      },
      "source": [
        "\n",
        "from sklearn.preprocessing import StandardScaler\n",
        "scaler = StandardScaler()\n",
        "data_standardized = scaler.fit_transform(new_data)\n",
        "\n",
        "data_standardized\n",
        "\n"
      ],
      "execution_count": 40,
      "outputs": [
        {
          "output_type": "execute_result",
          "data": {
            "text/plain": [
              "array([[-1.05852111e+00,  6.38613180e-01,  1.27735142e+00,\n",
              "         1.78563509e-02, -5.02356192e-01, -5.13338326e-01,\n",
              "        -2.75480373e-01, -2.01516522e-01,  3.51791502e-01,\n",
              "        -1.10679718e+00],\n",
              "       [ 5.37323415e-01, -6.48926749e-02, -1.26592098e+00,\n",
              "         3.45889784e-01, -6.00276985e-01, -4.78350009e-01,\n",
              "        -2.74445692e-01, -9.07187292e-01, -1.12592326e-01,\n",
              "         9.03507903e-01],\n",
              "       [ 4.30219756e-01, -3.39594961e-01,  5.71521889e-03,\n",
              "         3.73549408e-01,  1.67987860e+00,  1.59079281e+00,\n",
              "        -2.75534397e-01,  2.80526187e-01,  2.30231535e-01,\n",
              "         9.03507903e-01],\n",
              "       [ 1.08355208e+00,  2.70110113e-01, -1.01159374e+00,\n",
              "         8.24838006e-01,  1.07370227e+00, -4.61079562e-01,\n",
              "        -2.75534397e-01, -6.73396857e-02,  1.38785244e+00,\n",
              "         9.03507903e-01],\n",
              "       [-7.47920498e-01,  9.33415634e-01,  1.27735142e+00,\n",
              "        -3.95096980e-01, -1.47976183e-01, -1.94416689e-01,\n",
              "        -2.75534397e-01,  2.19875800e+00, -1.63101703e+00,\n",
              "        -1.10679718e+00],\n",
              "       [ 1.24420757e+00, -4.66896021e-01, -7.57266503e-01,\n",
              "         8.83554050e-01,  9.71118585e-01,  1.22357327e-01,\n",
              "        -2.75491261e-01,  3.15312774e-01,  1.03160878e+00,\n",
              "         9.03507903e-01],\n",
              "       [ 1.51750241e-01,  2.22080500e-02,  2.60042459e-01,\n",
              "        -1.73334733e-01, -7.70938937e-01, -1.63431604e-02,\n",
              "         3.99101255e+00,  2.21366654e+00, -1.15148706e+00,\n",
              "        -1.10679718e+00],\n",
              "       [ 2.58853900e-01, -2.92694571e-01, -7.57266503e-01,\n",
              "         3.96841722e-01,  6.63367524e-01, -4.19021995e-01,\n",
              "        -2.75534397e-01, -7.63071431e-01,  1.65067864e+00,\n",
              "         9.03507903e-01],\n",
              "       [-1.74398453e+00,  4.77811842e-01,  5.14369700e-01,\n",
              "         8.19102165e-02, -2.13256711e-01, -5.09132569e-01,\n",
              "        -2.75534397e-01, -1.76393124e+00,  8.59952554e-01,\n",
              "        -1.10679718e+00],\n",
              "       [ 1.04071061e+00, -1.92193734e-01,  1.53167866e+00,\n",
              "        -2.63592453e-01,  6.26064365e-01, -2.39158782e-01,\n",
              "        -2.49758568e-01, -8.67431192e-01,  7.69466598e-01,\n",
              "         9.03507903e-01],\n",
              "       [-2.98085129e-01, -1.05650093e+00,  1.02302418e+00,\n",
              "        -1.28408699e+00, -6.32917249e-01, -5.38483382e-01,\n",
              "        -2.66707058e-01,  2.90465212e-01, -3.94896784e-01,\n",
              "        -1.10679718e+00],\n",
              "       [ 8.90765491e-01, -9.35899924e-01,  7.68696940e-01,\n",
              "         2.89114767e-01,  8.96512267e-01, -4.72712506e-01,\n",
              "        -2.75534397e-01, -5.44412882e-01,  2.12219032e-01,\n",
              "         9.03507903e-01],\n",
              "       [ 4.19509390e-01, -6.81297805e-01, -2.48612022e-01,\n",
              "        -2.91252076e-01, -8.51140728e-01,  4.27164020e-02,\n",
              "        -2.75534397e-01, -1.28983975e+00,  6.05106578e-01,\n",
              "         9.03507903e-01],\n",
              "       [ 1.09961763e+00,  1.55079942e-02, -1.01159374e+00,\n",
              "         2.00798073e-01,  1.22471720e-01, -3.45644963e-01,\n",
              "        -2.75534397e-01, -6.68650694e-01, -1.08781363e-01,\n",
              "         9.03507903e-01],\n",
              "       [-2.12402201e-01,  2.50009946e-01,  7.68696940e-01,\n",
              "         1.32610803e+00, -8.42747518e-01, -5.48505611e-01,\n",
              "        -2.74639893e-01, -4.49992145e-01, -1.71483114e-01,\n",
              "        -1.10679718e+00],\n",
              "       [ 1.44770452e+00, -2.44341247e+00,  1.53167866e+00,\n",
              "        -1.66404288e+00,  2.48189652e+00,  1.50130862e+00,\n",
              "        -2.75534397e-01, -8.97248267e-01, -1.24887835e+00,\n",
              "         9.03507903e-01],\n",
              "       [-1.20846623e+00, -1.76000678e+00,  1.53167866e+00,\n",
              "        -1.30349726e+00, -6.86074250e-01,  2.10085267e+00,\n",
              "        -2.75464367e-01,  2.80526187e-01,  1.43837214e+00,\n",
              "        -1.10679718e+00],\n",
              "       [ 1.22278684e+00, -1.12922288e-02, -7.57266503e-01,\n",
              "         4.22075063e-01,  1.36280175e+00, -4.84524418e-01,\n",
              "        -2.75534397e-01, -6.63681181e-01, -1.02139314e+00,\n",
              "         9.03507903e-01],\n",
              "       [-1.11207294e+00, -8.82299478e-01, -2.48612022e-01,\n",
              "         1.62842287e+00, -9.35072836e-01,  2.92937742e-02,\n",
              "        -2.75476372e-01, -1.41407756e+00, -2.44901165e-01,\n",
              "        -1.10679718e+00],\n",
              "       [ 2.26722803e-01, -1.43840411e+00, -1.01159374e+00,\n",
              "         4.31780195e-01,  2.93886022e+00, -9.77737691e-02,\n",
              "        -2.75534397e-01, -1.53334586e+00,  1.92279271e-02,\n",
              "         9.03507903e-01],\n",
              "       [ 1.00857952e+00,  5.57083288e-02,  7.68696940e-01,\n",
              "         7.09832202e-01,  1.97830388e+00, -4.91235732e-01,\n",
              "        -2.75526746e-01,  6.38331084e-01,  1.22547934e+00,\n",
              "         9.03507903e-01],\n",
              "       [ 1.50661153e+00, -1.58580533e+00, -1.01159374e+00,\n",
              "        -1.36455234e-01, -4.09098295e-01, -2.14103210e-01,\n",
              "        -2.75534397e-01, -3.85388483e-01,  3.15929358e-01,\n",
              "         9.03507903e-01],\n",
              "       [-1.41196319e+00,  9.46815745e-01, -1.26592098e+00,\n",
              "         9.26256627e-01, -6.72085566e-01, -5.56469703e-01,\n",
              "        -2.72762613e-01, -7.23315331e-01,  1.20169604e-01,\n",
              "        -1.10679718e+00],\n",
              "       [ 4.62350853e-01,  1.04731658e+00, -7.57266503e-01,\n",
              "         9.15580983e-01, -8.80050677e-01, -5.34904015e-01,\n",
              "        -2.75525746e-01,  1.86105450e-01, -1.31138467e+00,\n",
              "         9.03507903e-01],\n",
              "       [-7.21144583e-01,  1.75082244e+00, -2.48612022e-01,\n",
              "         1.62745235e+00,  2.62358565e-01, -5.63762664e-01,\n",
              "        -2.75528394e-01, -1.29977878e+00,  4.43612924e-01,\n",
              "        -1.10679718e+00],\n",
              "       [-8.81800072e-01,  1.44931993e+00, -1.26592098e+00,\n",
              "         1.17859004e+00, -1.57301972e-01, -5.59959587e-01,\n",
              "        -2.75526040e-01,  5.24032297e-01,  9.99687886e-01,\n",
              "        -1.10679718e+00],\n",
              "       [ 1.65120147e+00, -7.88498697e-01,  1.27735142e+00,\n",
              "        -2.46608473e-01,  1.51201439e+00, -4.92577995e-01,\n",
              "        -2.75534397e-01, -4.49992145e-01, -4.31475520e-01,\n",
              "         9.03507903e-01],\n",
              "       [ 1.94591705e-01, -5.07096355e-01,  1.27735142e+00,\n",
              "         2.27972440e-01, -9.11758362e-01, -2.41843308e-01,\n",
              "        -2.75534397e-01,  6.83056696e-01,  5.19956996e-02,\n",
              "         9.03507903e-01],\n",
              "       [ 1.89236522e-01, -1.11010137e+00,  1.53167866e+00,\n",
              "        -9.26938167e-01,  2.90335935e-01,  1.88609062e+00,\n",
              "        -2.75151290e-01,  7.07904259e-01,  5.42828267e-01,\n",
              "         9.03507903e-01],\n",
              "       [-2.17775435e+00, -3.99895463e-01,  7.68696940e-01,\n",
              "        -3.69776402e-02, -7.94253411e-01,  1.38464480e-01,\n",
              "        -2.75534397e-01, -3.25530985e-02, -2.06595546e+00,\n",
              "        -1.10679718e+00],\n",
              "       [-5.39068362e-01, -7.95198753e-01, -2.48612022e-01,\n",
              "        -7.79420173e-01, -8.52073307e-01, -3.56383065e-01,\n",
              "        -1.49009211e-01, -1.53831538e+00, -2.39591874e-01,\n",
              "        -1.10679718e+00],\n",
              "       [ 7.14044453e-01,  6.58713347e-01, -1.26592098e+00,\n",
              "         1.27524333e-01, -5.85355721e-01, -4.80945051e-01,\n",
              "        -2.75143051e-01,  1.14025184e+00,  8.66239016e-01,\n",
              "         9.03507903e-01],\n",
              "       [-2.60598848e-01, -1.31893233e-01, -1.01159374e+00,\n",
              "        -4.07228394e-01,  2.71504126e+00,  9.64403511e-01,\n",
              "        -2.75534397e-01, -1.86607985e-01, -1.15112876e+00,\n",
              "         9.03507903e-01],\n",
              "       [ 1.71546367e+00, -4.19995630e-01, -1.01159374e+00,\n",
              "         6.10441845e-02,  2.17414546e+00, -4.78528978e-01,\n",
              "        -2.75534397e-01,  3.10343262e-01, -1.76596971e-01,\n",
              "         9.03507903e-01],\n",
              "       [ 7.46175551e-01,  1.40911959e+00, -1.26592098e+00,\n",
              "         1.20091184e+00,  4.95503309e-01, -5.56290735e-01,\n",
              "        -1.73137270e-01, -2.81028722e-01, -1.74316908e-01,\n",
              "         9.03507903e-01],\n",
              "       [-4.64095801e-01,  6.91084403e-02, -7.57266503e-01,\n",
              "         8.63658531e-01, -8.98702256e-01, -5.61990878e-01,\n",
              "        -2.71326699e-01,  7.20300121e-03,  2.17202600e-01,\n",
              "        -1.10679718e+00],\n",
              "       [-8.55024158e-01,  1.18131770e+00,  1.02302418e+00,\n",
              "        -8.25917566e-02, -7.20579672e-01, -5.54143115e-01,\n",
              "        -2.75494144e-01,  5.38940835e-01,  5.15011490e-01,\n",
              "        -1.10679718e+00],\n",
              "       [-7.80051596e-01,  6.24083846e-02, -2.48612022e-01,\n",
              "        -4.00920058e-01, -8.27826254e-01, -5.64576971e-01,\n",
              "        -2.38989215e-01, -3.95327508e-01, -1.12197652e+00,\n",
              "        -1.10679718e+00],\n",
              "       [ 6.12295977e-01,  3.90711117e-01, -7.57266503e-01,\n",
              "         4.42941095e-01, -1.94605131e-01,  1.69817383e+00,\n",
              "        -2.75534397e-01,  1.26448965e+00,  4.75826967e-01,\n",
              "         9.03507903e-01],\n",
              "       [-1.35305617e+00,  1.61012127e+00, -7.57266503e-01,\n",
              "         1.46683243e+00,  3.18313304e-01, -5.61811909e-01,\n",
              "        -2.75534397e-01,  1.25455063e+00,  1.77907880e+00,\n",
              "        -1.10679718e+00],\n",
              "       [ 1.04606580e+00, -1.53220489e+00,  1.27735142e+00,\n",
              "         7.01582841e-01, -7.72804095e-01,  3.38014214e-01,\n",
              "        -2.75534397e-01, -1.57807147e+00, -1.06862303e+00,\n",
              "         9.03507903e-01],\n",
              "       [-5.76554643e-01,  4.57711675e-01, -1.26592098e+00,\n",
              "         4.47308404e-01, -8.97769677e-01, -5.56908176e-01,\n",
              "        -2.75534397e-01,  4.79306685e-01, -1.24930179e+00,\n",
              "        -1.10679718e+00],\n",
              "       [-1.00496928e+00, -4.66896021e-01,  2.60042459e-01,\n",
              "        -8.74530459e-01, -9.11758362e-01, -5.62062465e-01,\n",
              "        -2.75156587e-01, -1.02148608e+00,  2.16095141e-01,\n",
              "        -1.10679718e+00],\n",
              "       [ 6.97978904e-01, -1.01630059e+00,  1.02302418e+00,\n",
              "        -1.42432614e+00,  1.47471123e+00,  3.91704725e-01,\n",
              "        -2.71756296e-01, -1.00160803e+00,  3.12150967e-01,\n",
              "         9.03507903e-01],\n",
              "       [-9.35351902e-01,  1.38231937e+00, -7.57266503e-01,\n",
              "        -9.47231705e-02, -1.29324603e-01, -5.56380219e-01,\n",
              "        -2.75128339e-01,  2.40770087e-01, -6.46224947e-01,\n",
              "        -1.10679718e+00],\n",
              "       [ 1.57087373e+00, -2.05593846e-01, -1.26592098e+00,\n",
              "        -5.05648238e-02, -3.56873873e-01,  7.22796211e-01,\n",
              "        -2.75534397e-01,  1.90555676e+00, -4.34504747e-01,\n",
              "         9.03507903e-01],\n",
              "       [ 2.37433169e-01, -5.14925634e-02,  2.60042459e-01,\n",
              "        -5.20205934e-02, -7.92388253e-01,  4.99085747e-01,\n",
              "        -2.75489142e-01,  1.27939819e+00, -1.41255984e-01,\n",
              "        -1.10679718e+00],\n",
              "       [-1.48693575e+00, -5.80796969e-01,  5.71521889e-03,\n",
              "        -1.23070877e+00, -4.45468875e-01,  8.12280396e-01,\n",
              "        -2.75534397e-01,  8.67152006e-02,  6.10285580e-01,\n",
              "         9.03507903e-01],\n",
              "       [ 9.28251772e-01,  5.98412846e-01,  1.02302418e+00,\n",
              "         4.88069955e-01, -1.38650393e-01, -3.76069586e-01,\n",
              "        -2.72191778e-01, -1.17034810e-01,  3.15473345e-01,\n",
              "         9.03507903e-01],\n",
              "       [-8.06827511e-01,  1.08081686e+00, -7.57266503e-01,\n",
              "         9.24315601e-01, -4.47334033e-01, -5.61811909e-01,\n",
              "        -2.75534397e-01,  7.82446946e-01,  2.83291875e-01,\n",
              "        -1.10679718e+00],\n",
              "       [ 1.44770452e+00, -1.24410249e+00,  1.53167866e+00,\n",
              "         2.49323729e-01,  2.00628125e+00,  1.05388770e+00,\n",
              "        -2.75534397e-01,  6.18453034e-01,  2.14433951e-01,\n",
              "         9.03507903e-01],\n",
              "       [-7.21144583e-01,  9.20015522e-01,  5.71521889e-03,\n",
              "        -1.39035818e+00, -7.58815410e-01, -5.55306409e-01,\n",
              "        -2.69178713e-01, -3.50601896e-01,  2.82933579e-01,\n",
              "        -1.10679718e+00],\n",
              "       [-1.16562477e+00, -1.06990104e+00, -5.02939262e-01,\n",
              "        -1.77031406e+00, -8.59533939e-01, -2.09629001e-01,\n",
              "         2.59040817e+00,  4.84276198e-01,  1.84386518e+00,\n",
              "        -1.10679718e+00],\n",
              "       [ 1.51732190e+00, -1.14360165e+00,  7.68696940e-01,\n",
              "         1.30921129e-01,  1.59594650e+00, -4.60184720e-01,\n",
              "        -2.75534397e-01, -1.81638472e-01,  2.49253781e-01,\n",
              "         9.03507903e-01],\n",
              "       [-1.56190831e+00,  7.52514128e-01, -1.01159374e+00,\n",
              "         8.63658531e-01, -8.08242096e-01, -3.74279902e-01,\n",
              "        -2.55231518e-01, -9.91669004e-01, -1.16767551e+00,\n",
              "         9.03507903e-01],\n",
              "       [ 9.81803602e-01, -7.34898251e-01, -1.26592098e+00,\n",
              "        -3.10662339e-01,  9.44943503e-02,  4.00653144e-01,\n",
              "        -2.75481727e-01,  6.83056696e-01, -1.77091046e-02,\n",
              "         9.03507903e-01],\n",
              "       [-1.53495188e-01,  3.50510782e-01,  1.02302418e+00,\n",
              "        -6.79457322e-01,  9.44943503e-02, -5.33561752e-01,\n",
              "        -2.75534397e-01, -1.17554097e+00, -1.50883819e+00,\n",
              "         9.03507903e-01],\n",
              "       [-2.76664397e-01, -1.75330673e+00, -1.01159374e+00,\n",
              "        -1.62425184e+00,  3.74268042e-01,  3.72946484e+00,\n",
              "        -2.75534397e-01, -3.65510434e-01, -1.05068116e-01,\n",
              "         9.03507903e-01],\n",
              "       [ 8.37213661e-01,  7.25713905e-01, -1.26592098e+00,\n",
              "         1.26350993e+00, -8.01714043e-01,  2.05577619e-01,\n",
              "        -2.75534397e-01, -3.20784821e-01, -5.33003498e-01,\n",
              "         9.03507903e-01],\n",
              "       [-8.22893060e-01,  1.45601998e+00,  1.02302418e+00,\n",
              "         1.01991114e+00,  4.67525940e-01, -1.80099220e-01,\n",
              "         1.89599088e+00,  1.12037379e+00,  1.28091746e+00,\n",
              "        -1.10679718e+00],\n",
              "       [ 1.14781427e+00,  4.84511898e-01,  1.53167866e+00,\n",
              "         1.06455475e+00,  1.52134018e+00, -4.89714501e-01,\n",
              "        -2.75392571e-01,  7.18066632e-02,  1.19336301e+00,\n",
              "         9.03507903e-01],\n",
              "       [ 1.47983562e+00, -2.13520991e+00,  5.14369700e-01,\n",
              "        -1.25351583e+00, -5.47182854e-02, -4.18127153e-01,\n",
              "        -2.01384753e-01,  2.21115386e-02,  7.04680217e-01,\n",
              "         9.03507903e-01],\n",
              "       [-1.51906685e+00, -5.74096913e-01,  1.02302418e+00,\n",
              "        -5.49893822e-01, -8.39949781e-01,  8.03331978e-01,\n",
              "        -2.75521862e-01,  1.51318863e-01,  2.16867654e+00,\n",
              "        -1.10679718e+00],\n",
              "       [-1.03710038e+00,  1.23491814e+00,  1.02302418e+00,\n",
              "         8.95200207e-01, -7.97051148e-01, -5.58366768e-01,\n",
              "        -2.75413757e-01, -3.75226110e-02, -1.86765507e+00,\n",
              "        -1.10679718e+00],\n",
              "       [ 7.19399636e-01,  1.08081686e+00,  2.60042459e-01,\n",
              "         3.72093638e-01,  8.49883319e-01,  6.60157281e-01,\n",
              "        -2.75534397e-01,  2.09439824e+00, -1.37538931e+00,\n",
              "         9.03507903e-01],\n",
              "       [-4.58740618e-01,  7.12313794e-01,  1.53167866e+00,\n",
              "         3.87223828e-02, -7.91455674e-01, -4.72712506e-01,\n",
              "        -2.75534397e-01,  1.08558721e+00, -1.41779850e+00,\n",
              "        -1.10679718e+00],\n",
              "       [ 7.19399636e-01, -4.47925076e-02,  7.68696940e-01,\n",
              "         3.29865413e-03, -7.40163831e-01, -4.16337469e-01,\n",
              "        -2.12566049e-01,  2.38262996e+00, -3.70467530e-01,\n",
              "         9.03507903e-01],\n",
              "       [-6.46172022e-01,  6.98913682e-01, -1.01159374e+00,\n",
              "         3.46375040e-01, -5.95614090e-01, -4.28865255e-01,\n",
              "        -2.75534397e-01,  1.62726406e+00,  1.19020349e+00,\n",
              "         9.03507903e-01],\n",
              "       [-1.17097995e+00,  1.38901943e+00,  1.02302418e+00,\n",
              "         1.03746762e-01, -5.49917720e-01, -5.64236931e-01,\n",
              "        -2.59762885e-01, -1.76445611e-02,  9.83727440e-01,\n",
              "        -1.10679718e+00],\n",
              "       [-1.32074456e-01,  4.91211953e-01, -1.01159374e+00,\n",
              "        -6.90045730e-02,  1.37212754e+00, -1.98890899e-01,\n",
              "        -2.75534397e-01, -2.21394572e-01,  9.36074109e-01,\n",
              "         9.03507903e-01],\n",
              "       [-1.02639001e+00,  1.13441731e+00,  7.68696940e-01,\n",
              "        -3.42204015e-01, -8.26893675e-01, -5.65330427e-01,\n",
              "         4.97378957e+00,  8.52020120e-01,  8.69626539e-01,\n",
              "        -1.10679718e+00],\n",
              "       [-8.65734524e-01,  1.28181853e+00,  1.53167866e+00,\n",
              "         1.72167936e-01, -7.80264726e-01, -5.00273635e-01,\n",
              "        -1.47243744e-01,  5.78696935e-01,  7.05038513e-01,\n",
              "        -1.10679718e+00],\n",
              "       [ 8.42568844e-01, -1.73320656e+00,  5.14369700e-01,\n",
              "        -3.20667347e+00, -1.47976183e-01,  8.39125652e-01,\n",
              "         9.95602350e-01,  2.21115386e-02, -1.70534710e+00,\n",
              "         9.03507903e-01],\n",
              "       [ 1.48519080e+00, -1.21060221e+00,  1.53167866e+00,\n",
              "        -7.38658623e-01,  1.87752248e-01, -5.15306978e-01,\n",
              "        -2.71744526e-01, -1.30474829e+00, -4.33109626e-02,\n",
              "         9.03507903e-01],\n",
              "       [ 2.32077986e-01, -2.25694013e-01, -2.48612022e-01,\n",
              "         5.91031583e-02, -7.78399568e-01, -4.33339464e-01,\n",
              "        -2.05504178e-01,  1.77634944e+00, -7.42345918e-01,\n",
              "        -1.10679718e+00],\n",
              "       [-1.04245556e+00,  9.46815745e-01, -7.57266503e-01,\n",
              "         6.41896284e-01, -6.87939408e-01, -5.33114331e-01,\n",
              "        -2.75534397e-01, -7.97858018e-01,  1.19430761e+00,\n",
              "        -1.10679718e+00],\n",
              "       [ 1.15852464e+00, -1.19050204e+00, -1.01159374e+00,\n",
              "        -8.71133663e-01,  5.42132257e-01, -6.55594623e-02,\n",
              "        -2.75534397e-01,  1.18000794e+00,  2.84366762e-01,\n",
              "         9.03507903e-01],\n",
              "       [ 1.42092861e+00, -3.66395184e-01, -7.57266503e-01,\n",
              "        -7.48363754e-01,  1.13898280e+00,  1.22917790e-02,\n",
              "        -2.75534397e-01,  1.66227400e-01, -1.57424344e+00,\n",
              "         9.03507903e-01],\n",
              "       [-7.63986047e-01,  1.42251970e+00, -2.48612022e-01,\n",
              "         1.05290859e+00, -6.34782407e-01, -5.59700082e-01,\n",
              "        -2.22746912e-01,  3.69977411e-01, -1.18405940e+00,\n",
              "        -1.10679718e+00],\n",
              "       [-1.90981469e-01, -6.14297247e-01,  1.53167866e+00,\n",
              "        -1.07445616e+00, -8.39949781e-01, -5.60228039e-01,\n",
              "        -2.75523510e-01,  4.69367660e-01, -4.36035647e-01,\n",
              "        -1.10679718e+00],\n",
              "       [-4.69450984e-01, -1.71310639e+00, -1.01159374e+00,\n",
              "        -4.75124510e+00, -7.76534411e-01,  6.25291887e+00,\n",
              "         5.20330038e+00, -1.76790685e+00, -1.73733314e+00,\n",
              "         9.03507903e-01],\n",
              "       [ 1.43699415e+00, -1.42500399e+00, -7.57266503e-01,\n",
              "         8.28807296e-02,  5.04829098e-01, -2.92849293e-01,\n",
              "        -2.75534397e-01, -1.14572389e+00,  1.51373904e-01,\n",
              "         9.03507903e-01],\n",
              "       [-1.31556989e+00,  1.05401664e+00, -1.01159374e+00,\n",
              "         1.01214704e+00, -7.26175146e-01,  3.46962632e-01,\n",
              "        -2.75534397e-01,  1.71420261e-02,  1.58400307e+00,\n",
              "        -1.10679718e+00],\n",
              "       [-7.96117145e-01,  2.90210281e-01,  7.68696940e-01,\n",
              "         1.03301307e+00, -9.37870573e-01, -5.63619490e-01,\n",
              "         2.03722829e+00, -1.16560194e+00, -1.50782844e+00,\n",
              "        -1.10679718e+00],\n",
              "       [ 1.51750241e-01,  6.52013292e-01, -1.26592098e+00,\n",
              "        -2.72812327e-01, -8.25028517e-01, -4.90698827e-01,\n",
              "        -2.75534397e-01,  1.99500799e+00, -9.56443898e-01,\n",
              "        -1.10679718e+00],\n",
              "       [-1.37983209e+00,  9.66915913e-01, -1.26592098e+00,\n",
              "         4.26044353e-02, -5.54580615e-01, -5.65440493e-01,\n",
              "        -1.21938707e-01, -5.59321420e-01,  1.94151705e+00,\n",
              "        -1.10679718e+00],\n",
              "       [ 5.37323415e-01,  1.07411680e+00, -1.26592098e+00,\n",
              "         5.57461643e-01, -6.55299144e-01, -2.31105205e-01,\n",
              "        -2.75512740e-01, -1.71920563e+00, -1.07283035e-01,\n",
              "         9.03507903e-01],\n",
              "       [-8.71089707e-01,  1.22708886e-01, -1.01159374e+00,\n",
              "         2.15355770e-01, -9.34140257e-01, -5.61606096e-01,\n",
              "        -2.75502030e-01, -1.25008365e+00,  5.43088846e-01,\n",
              "        -1.10679718e+00],\n",
              "       [-4.26609520e-01,  1.33541898e+00,  1.02302418e+00,\n",
              "         1.01845537e+00,  1.89437177e+00,  8.57022489e-01,\n",
              "        -2.75534397e-01, -9.61851929e-01, -1.51271429e+00,\n",
              "         9.03507903e-01]])"
            ]
          },
          "metadata": {
            "tags": []
          },
          "execution_count": 40
        }
      ]
    },
    {
      "cell_type": "markdown",
      "metadata": {
        "id": "eY2YPrIrXX92"
      },
      "source": [
        "**Dimentionality Reduction**\n",
        "\n",
        "\n",
        "> PCA\n",
        "\n",
        "\n",
        "\n",
        "\n"
      ]
    },
    {
      "cell_type": "code",
      "metadata": {
        "id": "3hEa-AURXXSh",
        "outputId": "404428a9-21ec-48b0-cbfa-2761b3fa957b",
        "colab": {
          "base_uri": "https://localhost:8080/",
          "height": 255
        }
      },
      "source": [
        "from sklearn.decomposition import PCA\n",
        "pca = PCA(n_components = 6)\n",
        "pca.fit(data_standardized)\n",
        "pca.transform(data_standardized)\n",
        "\n",
        "col = list(new_data.columns)\n",
        "\n",
        "df_principal_components = pd.DataFrame(pca.components_, columns=col)\n",
        "df_principal_components"
      ],
      "execution_count": null,
      "outputs": [
        {
          "output_type": "execute_result",
          "data": {
            "text/html": [
              "<div>\n",
              "<style scoped>\n",
              "    .dataframe tbody tr th:only-of-type {\n",
              "        vertical-align: middle;\n",
              "    }\n",
              "\n",
              "    .dataframe tbody tr th {\n",
              "        vertical-align: top;\n",
              "    }\n",
              "\n",
              "    .dataframe thead th {\n",
              "        text-align: right;\n",
              "    }\n",
              "</style>\n",
              "<table border=\"1\" class=\"dataframe\">\n",
              "  <thead>\n",
              "    <tr style=\"text-align: right;\">\n",
              "      <th></th>\n",
              "      <th>danceability</th>\n",
              "      <th>energy</th>\n",
              "      <th>key</th>\n",
              "      <th>loudness</th>\n",
              "      <th>speechiness</th>\n",
              "      <th>acousticness</th>\n",
              "      <th>instrumentalness</th>\n",
              "      <th>valence</th>\n",
              "      <th>tempo</th>\n",
              "      <th>time_signature</th>\n",
              "    </tr>\n",
              "  </thead>\n",
              "  <tbody>\n",
              "    <tr>\n",
              "      <th>0</th>\n",
              "      <td>-0.148532</td>\n",
              "      <td>-0.320828</td>\n",
              "      <td>0.019789</td>\n",
              "      <td>-0.520084</td>\n",
              "      <td>-0.069947</td>\n",
              "      <td>0.491593</td>\n",
              "      <td>0.494993</td>\n",
              "      <td>-0.191627</td>\n",
              "      <td>-0.275378</td>\n",
              "      <td>0.0</td>\n",
              "    </tr>\n",
              "    <tr>\n",
              "      <th>1</th>\n",
              "      <td>0.514635</td>\n",
              "      <td>-0.498200</td>\n",
              "      <td>0.472780</td>\n",
              "      <td>-0.119136</td>\n",
              "      <td>0.447816</td>\n",
              "      <td>-0.088579</td>\n",
              "      <td>-0.146135</td>\n",
              "      <td>-0.100334</td>\n",
              "      <td>0.097088</td>\n",
              "      <td>0.0</td>\n",
              "    </tr>\n",
              "    <tr>\n",
              "      <th>2</th>\n",
              "      <td>-0.236274</td>\n",
              "      <td>0.206387</td>\n",
              "      <td>0.132351</td>\n",
              "      <td>0.200528</td>\n",
              "      <td>0.293517</td>\n",
              "      <td>-0.145818</td>\n",
              "      <td>-0.074733</td>\n",
              "      <td>-0.731563</td>\n",
              "      <td>-0.442342</td>\n",
              "      <td>-0.0</td>\n",
              "    </tr>\n",
              "    <tr>\n",
              "      <th>3</th>\n",
              "      <td>0.005555</td>\n",
              "      <td>0.284748</td>\n",
              "      <td>0.442619</td>\n",
              "      <td>0.006881</td>\n",
              "      <td>0.112520</td>\n",
              "      <td>0.107579</td>\n",
              "      <td>-0.041240</td>\n",
              "      <td>0.561815</td>\n",
              "      <td>-0.617541</td>\n",
              "      <td>0.0</td>\n",
              "    </tr>\n",
              "    <tr>\n",
              "      <th>4</th>\n",
              "      <td>-0.047846</td>\n",
              "      <td>0.103662</td>\n",
              "      <td>-0.474119</td>\n",
              "      <td>0.059133</td>\n",
              "      <td>0.791048</td>\n",
              "      <td>0.301280</td>\n",
              "      <td>0.056548</td>\n",
              "      <td>0.184839</td>\n",
              "      <td>0.069208</td>\n",
              "      <td>0.0</td>\n",
              "    </tr>\n",
              "    <tr>\n",
              "      <th>5</th>\n",
              "      <td>-0.651123</td>\n",
              "      <td>0.040137</td>\n",
              "      <td>0.518372</td>\n",
              "      <td>-0.024653</td>\n",
              "      <td>0.151397</td>\n",
              "      <td>0.181153</td>\n",
              "      <td>-0.084220</td>\n",
              "      <td>0.045534</td>\n",
              "      <td>0.490109</td>\n",
              "      <td>-0.0</td>\n",
              "    </tr>\n",
              "  </tbody>\n",
              "</table>\n",
              "</div>"
            ],
            "text/plain": [
              "   danceability    energy       key  ...   valence     tempo  time_signature\n",
              "0     -0.148532 -0.320828  0.019789  ... -0.191627 -0.275378             0.0\n",
              "1      0.514635 -0.498200  0.472780  ... -0.100334  0.097088             0.0\n",
              "2     -0.236274  0.206387  0.132351  ... -0.731563 -0.442342            -0.0\n",
              "3      0.005555  0.284748  0.442619  ...  0.561815 -0.617541             0.0\n",
              "4     -0.047846  0.103662 -0.474119  ...  0.184839  0.069208             0.0\n",
              "5     -0.651123  0.040137  0.518372  ...  0.045534  0.490109            -0.0\n",
              "\n",
              "[6 rows x 10 columns]"
            ]
          },
          "metadata": {
            "tags": []
          },
          "execution_count": 18
        }
      ]
    },
    {
      "cell_type": "code",
      "metadata": {
        "id": "bU42Tf2vwm6-"
      },
      "source": [
        "#pca = PCA().fit(data_rescaled)\n",
        "\n",
        "#% matplotlib inline\n",
        "#import matplotlib.pyplot as plt\n",
        "#plt.rcParams[\"figure.figsize\"] = (12,6)\n",
        "\n",
        "#fig, ax = plt.subplots()\n",
        "#xi = np.arange(1, 11, step=1)\n",
        "#y = np.cumsum(pca.explained_variance_ratio_)\n",
        "\n",
        "#plt.ylim(0.0,1.1)\n",
        "#plt.plot(xi, y, marker='o', linestyle='--', color='b')\n",
        "\n",
        "#plt.xlabel('Number of Components')\n",
        "#plt.xticks(np.arange(0, 11, step=1)) #change from 0-based array index to 1-based human-readable label\n",
        "#plt.ylabel('Cumulative variance (%)')\n",
        "#plt.title('The number of components needed to explain variance')\n",
        "\n",
        "#plt.axhline(y=0.95, color='r', linestyle='-')\n",
        "\n",
        "\n",
        "#ax.grid(axis='x')\n",
        "#plt.show()"
      ],
      "execution_count": null,
      "outputs": []
    },
    {
      "cell_type": "markdown",
      "metadata": {
        "id": "qf99lywxu9qZ"
      },
      "source": [
        "#Heatmap\n",
        "after dimentionality reduction, we can observe some interesting findings  for the foollowing features\n",
        "\n",
        " Speechness \n",
        " \n",
        " key\n",
        "\n",
        " Valence\n",
        "\n",
        " Tempo\n",
        "\n",
        " Instrumentalness\n",
        "\n",
        " Acousticness\n",
        "\n",
        " Danceability\n"
      ]
    },
    {
      "cell_type": "code",
      "metadata": {
        "id": "BMBoKczNk91G",
        "outputId": "5528b82d-f457-4835-c139-97a7bfbadeb2",
        "colab": {
          "base_uri": "https://localhost:8080/",
          "height": 685
        }
      },
      "source": [
        "plt.figure(figsize=(12,10))\n",
        "sns.heatmap(df_principal_components,annot=True,cmap=plt.cm.Reds)\n",
        "\n"
      ],
      "execution_count": null,
      "outputs": [
        {
          "output_type": "execute_result",
          "data": {
            "text/plain": [
              "<matplotlib.axes._subplots.AxesSubplot at 0x7fd5671b6dd8>"
            ]
          },
          "metadata": {
            "tags": []
          },
          "execution_count": 15
        },
        {
          "output_type": "display_data",
          "data": {
            "image/png": "[encoded data removed]",
            "text/plain": [
              "<Figure size 864x720 with 2 Axes>"
            ]
          },
          "metadata": {
            "tags": [],
            "needs_background": "light"
          }
        }
      ]
    },
    {
      "cell_type": "markdown",
      "metadata": {
        "id": "QSNwhn9HaJ5p"
      },
      "source": [
        "Data Split"
      ]
    },
    {
      "cell_type": "markdown",
      "metadata": {
        "id": "S2d9Qna0ef_V"
      },
      "source": [
        "#K-NN"
      ]
    },
    {
      "cell_type": "code",
      "metadata": {
        "id": "kQTtRfWOei13"
      },
      "source": [
        "from sklearn.neighbors import KNeighborsClassifier\n"
      ],
      "execution_count": 49,
      "outputs": []
    },
    {
      "cell_type": "code",
      "metadata": {
        "id": "n-eCvLace0J5",
        "outputId": "8429110f-02d8-46d7-8d47-1f926f6cf8ac",
        "colab": {
          "base_uri": "https://localhost:8080/",
          "height": 88
        }
      },
      "source": [
        "classifier = KNeighborsClassifier(n_neighbors=  5,metric = 'minkowski', p = 2)\n",
        "classifier.fit(X_train,y_train)\n",
        "classifier.predict\n"
      ],
      "execution_count": 53,
      "outputs": [
        {
          "output_type": "execute_result",
          "data": {
            "text/plain": [
              "<bound method KNeighborsClassifier.predict of KNeighborsClassifier(algorithm='auto', leaf_size=30, metric='minkowski',\n",
              "                     metric_params=None, n_jobs=None, n_neighbors=5, p=2,\n",
              "                     weights='uniform')>"
            ]
          },
          "metadata": {
            "tags": []
          },
          "execution_count": 53
        }
      ]
    },
    {
      "cell_type": "markdown",
      "metadata": {
        "id": "JntrDw1TT0iN"
      },
      "source": [
        "#Random Forest\n"
      ]
    },
    {
      "cell_type": "code",
      "metadata": {
        "id": "bpkA22_xT3LI"
      },
      "source": [
        "clf = RandomForestClassifier(n_estimators= 10, random_state = 12345, criterion='entropy',)\n",
        "clf.fit( X_train, y_train)"
      ],
      "execution_count": null,
      "outputs": []
    }
  ]
}